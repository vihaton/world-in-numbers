{
 "cells": [
  {
   "cell_type": "code",
   "execution_count": null,
   "id": "owned-artist",
   "metadata": {},
   "outputs": [],
   "source": [
    "import os\n",
    "import numpy as np\n",
    "import pandas as pd\n",
    "import matplotlib.pyplot as plt\n",
    "import seaborn as sns"
   ]
  },
  {
   "cell_type": "code",
   "execution_count": null,
   "id": "union-iraqi",
   "metadata": {},
   "outputs": [],
   "source": [
    "data_dir = '../data/'"
   ]
  },
  {
   "cell_type": "markdown",
   "id": "played-enforcement",
   "metadata": {},
   "source": [
    "### Countries \n",
    "https://www.countries-ofthe-world.com/countries-of-africa.html "
   ]
  },
  {
   "cell_type": "code",
   "execution_count": null,
   "id": "mediterranean-understanding",
   "metadata": {
    "scrolled": true
   },
   "outputs": [],
   "source": [
    "countries_raw = '''A\n",
    "Algeria\n",
    "Angola\n",
    "B\n",
    "Benin\n",
    "Botswana\n",
    "Burkina Faso\n",
    "Burundi\n",
    "C\n",
    "Cabo Verde\n",
    "Cameroon\n",
    "Central African Republic (CAR)\n",
    "Chad\n",
    "Comoros\n",
    "Congo, Democratic Republic of the\n",
    "Congo, Republic of the\n",
    "Cote d'Ivoire\n",
    "D\n",
    "Djibouti\n",
    "E\n",
    "Egypt\n",
    "Equatorial Guinea\n",
    "Eritrea\n",
    "Eswatini (formerly Swaziland)\n",
    "Ethiopia\n",
    "G\n",
    "Gabon\n",
    "Gambia\n",
    "Ghana\n",
    "Guinea\n",
    "Guinea-Bissau\n",
    "K\n",
    "Kenya\n",
    "L\n",
    "Lesotho\n",
    "Liberia\n",
    "Libya\n",
    "M\n",
    "Madagascar\n",
    "Malawi\n",
    "Mali\n",
    "Mauritania\n",
    "Mauritius\n",
    "Morocco\n",
    "Mozambique\n",
    "N\n",
    "Namibia\n",
    "Niger\n",
    "Nigeria\n",
    "R\n",
    "Rwanda\n",
    "S\n",
    "Sao Tome and Principe\n",
    "Senegal\n",
    "Seychelles\n",
    "Sierra Leone\n",
    "Somalia\n",
    "South Africa\n",
    "South Sudan\n",
    "Sudan\n",
    "T\n",
    "Tanzania\n",
    "Togo\n",
    "Tunisia\n",
    "U\n",
    "Uganda\n",
    "Z\n",
    "Zambia\n",
    "Zimbabwe\n",
    "'''"
   ]
  },
  {
   "cell_type": "code",
   "execution_count": null,
   "id": "identical-soviet",
   "metadata": {
    "scrolled": true
   },
   "outputs": [],
   "source": [
    "countries = [c for c in countries_raw.split('\\n') if len(c) > 1]\n",
    "countries"
   ]
  },
  {
   "cell_type": "code",
   "execution_count": null,
   "id": "underlying-phenomenon",
   "metadata": {},
   "outputs": [],
   "source": [
    "for c in countries:\n",
    "    print(c)"
   ]
  },
  {
   "cell_type": "code",
   "execution_count": null,
   "id": "official-overhead",
   "metadata": {},
   "outputs": [],
   "source": [
    "def is_country_in_str(s):\n",
    "    pos = []\n",
    "    for c in countries:\n",
    "        if c in s:\n",
    "            pos.append(c)\n",
    "        \n",
    "    if len(pos) > 0:\n",
    "        lengths = list(map(lambda c: len(c), pos))\n",
    "        c = pos[np.argmax(lengths)]\n",
    "        return True, c\n",
    "    else:\n",
    "        return False, ''"
   ]
  },
  {
   "cell_type": "markdown",
   "id": "fabulous-beijing",
   "metadata": {},
   "source": [
    "### Population "
   ]
  },
  {
   "cell_type": "markdown",
   "id": "welsh-behalf",
   "metadata": {},
   "source": [
    "#### download "
   ]
  },
  {
   "cell_type": "code",
   "execution_count": null,
   "id": "lightweight-mapping",
   "metadata": {},
   "outputs": [],
   "source": [
    "population_file_raw = 'population_africa_wikipedia_raw.html'"
   ]
  },
  {
   "cell_type": "code",
   "execution_count": null,
   "id": "patent-catholic",
   "metadata": {},
   "outputs": [],
   "source": [
    "!curl https://en.wikipedia.org/wiki/List_of_African_countries_by_population > {data_dir + population_file_raw}"
   ]
  },
  {
   "cell_type": "markdown",
   "id": "responsible-blank",
   "metadata": {},
   "source": [
    "#### parse "
   ]
  },
  {
   "cell_type": "code",
   "execution_count": null,
   "id": "obvious-auditor",
   "metadata": {},
   "outputs": [],
   "source": [
    "with open(data_dir + population_file_raw, 'rb') as fo:\n",
    "    population_raw = str(fo.read())"
   ]
  },
  {
   "cell_type": "code",
   "execution_count": null,
   "id": "christian-judge",
   "metadata": {
    "scrolled": true
   },
   "outputs": [],
   "source": [
    "population_raw = [line for line in population_raw.split('<td style=\"text-align:left;\">') if is_country_in_str(line)[0]]\n",
    "population_raw"
   ]
  },
  {
   "cell_type": "code",
   "execution_count": null,
   "id": "fiscal-surgery",
   "metadata": {},
   "outputs": [],
   "source": [
    "def parse_population_cell(blob, verbose=False):\n",
    "    data_raw = blob.split('><')[-1].split('\\\\n')\n",
    "    if verbose: print(data_raw)\n",
    "    p_str = data_raw[1].split('>')[-1].replace(',','')\n",
    "    u_str = data_raw[-2].replace('<td>', '').replace('</td>', '')\n",
    "    \n",
    "    if verbose: print(p_str, u_str)\n",
    "    population = int(p_str)\n",
    "    return population, u_str"
   ]
  },
  {
   "cell_type": "code",
   "execution_count": null,
   "id": "assumed-chemical",
   "metadata": {},
   "outputs": [],
   "source": [
    "parsed_population = {}\n",
    "for blob in population_raw:\n",
    "    c = is_country_in_str(blob)[1]\n",
    "    population, update = parse_population_cell(blob, True)\n",
    "    parsed_population[c] = dict(population=population, update=update)\n"
   ]
  },
  {
   "cell_type": "code",
   "execution_count": null,
   "id": "impaired-implementation",
   "metadata": {},
   "outputs": [],
   "source": [
    "blob"
   ]
  },
  {
   "cell_type": "code",
   "execution_count": null,
   "id": "present-magnet",
   "metadata": {},
   "outputs": [],
   "source": [
    "c, population, update"
   ]
  },
  {
   "cell_type": "code",
   "execution_count": null,
   "id": "exempt-corrections",
   "metadata": {},
   "outputs": [],
   "source": [
    "parsed_population"
   ]
  },
  {
   "cell_type": "code",
   "execution_count": null,
   "id": "apparent-oxford",
   "metadata": {},
   "outputs": [],
   "source": []
  }
 ],
 "metadata": {
  "kernelspec": {
   "display_name": "Python 3",
   "language": "python",
   "name": "python3"
  },
  "language_info": {
   "codemirror_mode": {
    "name": "ipython",
    "version": 3
   },
   "file_extension": ".py",
   "mimetype": "text/x-python",
   "name": "python",
   "nbconvert_exporter": "python",
   "pygments_lexer": "ipython3",
   "version": "3.6.9"
  }
 },
 "nbformat": 4,
 "nbformat_minor": 5
}
