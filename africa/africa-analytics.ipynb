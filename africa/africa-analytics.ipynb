{
 "cells": [
  {
   "cell_type": "code",
   "execution_count": null,
   "id": "owned-artist",
   "metadata": {},
   "outputs": [],
   "source": [
    "import os\n",
    "import re\n",
    "import numpy as np\n",
    "import pandas as pd\n",
    "import matplotlib.pyplot as plt\n",
    "import seaborn as sns\n",
    "import datetime\n",
    "from bs4 import BeautifulSoup\n",
    "\n",
    "from utils import *\n",
    "\n",
    "sns.set_style('whitegrid')"
   ]
  },
  {
   "cell_type": "code",
   "execution_count": null,
   "id": "union-iraqi",
   "metadata": {},
   "outputs": [],
   "source": [
    "data_dir = '../data/'\n",
    "ts = datetime.datetime.now().strftime('%Y%m%d_%H%M%S')\n",
    "ts"
   ]
  },
  {
   "cell_type": "markdown",
   "id": "played-enforcement",
   "metadata": {},
   "source": [
    "### Countries \n",
    "https://www.countries-ofthe-world.com/countries-of-africa.html "
   ]
  },
  {
   "cell_type": "code",
   "execution_count": null,
   "id": "mediterranean-understanding",
   "metadata": {
    "scrolled": true
   },
   "outputs": [],
   "source": [
    "countries_raw = '''A\n",
    "Algeria\n",
    "Angola\n",
    "B\n",
    "Benin\n",
    "Botswana\n",
    "Burkina Faso\n",
    "Burundi\n",
    "C\n",
    "Cabo Verde\n",
    "Cameroon\n",
    "Central African Republic (CAR)\n",
    "Chad\n",
    "Comoros\n",
    "Congo, Democratic Republic of the\n",
    "Congo, Republic of the\n",
    "Cote d'Ivoire\n",
    "D\n",
    "Djibouti\n",
    "E\n",
    "Egypt\n",
    "Equatorial Guinea\n",
    "Eritrea\n",
    "Eswatini (formerly Swaziland)\n",
    "Ethiopia\n",
    "G\n",
    "Gabon\n",
    "Gambia\n",
    "Ghana\n",
    "Guinea\n",
    "Guinea-Bissau\n",
    "K\n",
    "Kenya\n",
    "L\n",
    "Lesotho\n",
    "Liberia\n",
    "Libya\n",
    "M\n",
    "Madagascar\n",
    "Malawi\n",
    "Mali\n",
    "Mauritania\n",
    "Mauritius\n",
    "Morocco\n",
    "Mozambique\n",
    "N\n",
    "Namibia\n",
    "Niger\n",
    "Nigeria\n",
    "R\n",
    "Rwanda\n",
    "S\n",
    "Sao Tome and Principe\n",
    "Senegal\n",
    "Seychelles\n",
    "Sierra Leone\n",
    "Somalia\n",
    "South Africa\n",
    "South Sudan\n",
    "Sudan\n",
    "T\n",
    "Tanzania\n",
    "Togo\n",
    "Tunisia\n",
    "U\n",
    "Uganda\n",
    "Z\n",
    "Zambia\n",
    "Zimbabwe\n",
    "'''"
   ]
  },
  {
   "cell_type": "code",
   "execution_count": null,
   "id": "identical-soviet",
   "metadata": {
    "scrolled": true
   },
   "outputs": [],
   "source": [
    "countries = [c for c in countries_raw.split('\\n') if len(c) > 1]\n",
    "countries"
   ]
  },
  {
   "cell_type": "code",
   "execution_count": null,
   "id": "underlying-phenomenon",
   "metadata": {},
   "outputs": [],
   "source": [
    "for c in countries:\n",
    "    print(c)"
   ]
  },
  {
   "cell_type": "code",
   "execution_count": null,
   "id": "38fb1a4e",
   "metadata": {},
   "outputs": [],
   "source": [
    "assert len(countries) == 54, f'there are 54 countries in Africa, you got {len(countries)}'"
   ]
  },
  {
   "cell_type": "code",
   "execution_count": null,
   "id": "official-overhead",
   "metadata": {},
   "outputs": [],
   "source": [
    "def is_country_in_str(s):\n",
    "    pos = []\n",
    "    for c in countries:\n",
    "        if c in s:\n",
    "            pos.append(c)\n",
    "        \n",
    "    if len(pos) > 0:\n",
    "        lengths = list(map(lambda c: len(c), pos))\n",
    "        c = pos[np.argmax(lengths)]\n",
    "        return True, c\n",
    "    else:\n",
    "        return False, ''"
   ]
  },
  {
   "cell_type": "markdown",
   "id": "fabulous-beijing",
   "metadata": {},
   "source": [
    "### Population "
   ]
  },
  {
   "cell_type": "markdown",
   "id": "welsh-behalf",
   "metadata": {},
   "source": [
    "#### download "
   ]
  },
  {
   "cell_type": "code",
   "execution_count": null,
   "id": "lightweight-mapping",
   "metadata": {},
   "outputs": [],
   "source": [
    "population_file_raw = 'population_africa_wikipedia_raw.html'"
   ]
  },
  {
   "cell_type": "code",
   "execution_count": null,
   "id": "patent-catholic",
   "metadata": {},
   "outputs": [],
   "source": [
    "!curl https://en.wikipedia.org/wiki/List_of_African_countries_by_population > {data_dir + population_file_raw}"
   ]
  },
  {
   "cell_type": "markdown",
   "id": "responsible-blank",
   "metadata": {},
   "source": [
    "#### parse "
   ]
  },
  {
   "cell_type": "code",
   "execution_count": null,
   "id": "obvious-auditor",
   "metadata": {},
   "outputs": [],
   "source": [
    "with open(data_dir + population_file_raw, 'rb') as fo:\n",
    "    population_raw = str(fo.read())"
   ]
  },
  {
   "cell_type": "code",
   "execution_count": null,
   "id": "christian-judge",
   "metadata": {
    "scrolled": true
   },
   "outputs": [],
   "source": [
    "population_raw = [line for line in population_raw.split('<td style=\"text-align:left;\">') if is_country_in_str(line)[0]]\n",
    "population_raw[0], f'length {len(population_raw)}'"
   ]
  },
  {
   "cell_type": "code",
   "execution_count": null,
   "id": "fiscal-surgery",
   "metadata": {},
   "outputs": [],
   "source": [
    "def parse_year(year_blob:str):\n",
    "    '''Finds year in the string, assumes that the year is the first digits in the string. \n",
    "    Returns year (int), or None if there is year'''\n",
    "    y = re.search('\\d+', year_blob)\n",
    "    return y.group(0) if y is not None else y\n",
    "\n",
    "def parse_population_cell(blob, verbose=0):\n",
    "    if verbose > 1:\n",
    "        print(blob)\n",
    "\n",
    "    data_raw = blob.split('title=')[-1].split('\\\\n')\n",
    "    if verbose:\n",
    "        print(data_raw)\n",
    "\n",
    "    # parse population\n",
    "    pstr = blob.split('title=')[-1].split('\\\\n')[1]\n",
    "    res = re.findall('\\d+',pstr)\n",
    "    p_str = ''.join(res)\n",
    "\n",
    "    # parse year\n",
    "    y = parse_year(data_raw[2])\n",
    "    y = y if y is not None else parse_year(data_raw[3])\n",
    "    \n",
    "    if verbose:\n",
    "        print(p_str, y)\n",
    "    population = int(p_str)\n",
    "    return population, y\n"
   ]
  },
  {
   "cell_type": "code",
   "execution_count": null,
   "id": "assumed-chemical",
   "metadata": {},
   "outputs": [],
   "source": [
    "parsed_population = {}\n",
    "for i, blob in enumerate(population_raw):\n",
    "    if 'footer' in blob:\n",
    "        print('end of table, reached the footer')\n",
    "        break\n",
    "    c = is_country_in_str(blob)[1]\n",
    "    print(f'Country {c} {i+1}/{len(population_raw)}')\n",
    "\n",
    "    population, update = parse_population_cell(blob, verbose=1)\n",
    "    parsed_population[c] = dict(population=population, update=update)\n"
   ]
  },
  {
   "cell_type": "code",
   "execution_count": null,
   "id": "present-magnet",
   "metadata": {},
   "outputs": [],
   "source": [
    "c, population, update"
   ]
  },
  {
   "cell_type": "code",
   "execution_count": null,
   "id": "exempt-corrections",
   "metadata": {},
   "outputs": [],
   "source": [
    "parsed_population['South Africa']"
   ]
  },
  {
   "cell_type": "code",
   "execution_count": null,
   "id": "4638e574",
   "metadata": {},
   "outputs": [],
   "source": [
    "df_population = pd.DataFrame(parsed_population).T.reset_index().rename(columns={'index': 'country'})\n",
    "df_population.head()"
   ]
  },
  {
   "cell_type": "code",
   "execution_count": null,
   "id": "5013669a",
   "metadata": {},
   "outputs": [],
   "source": [
    "df_population['population_mil'] = df_population.population / 10**6"
   ]
  },
  {
   "cell_type": "markdown",
   "id": "apparent-oxford",
   "metadata": {},
   "source": [
    "#### Visualize"
   ]
  },
  {
   "cell_type": "code",
   "execution_count": null,
   "id": "80fc54cf",
   "metadata": {},
   "outputs": [],
   "source": [
    "plt.figure(figsize=(12,8))\n",
    "\n",
    "sns.barplot(data=df_population, x='country', y='population_mil')\n",
    "plt.xticks(rotation=90)\n",
    "\n",
    "show_values_on_bars(plt.gca())\n",
    "\n",
    "plt.title(f'Population of African countries, Wikipedia ({ts[:4]})')\n",
    "\n",
    "plt.tight_layout()\n",
    "plt.show()"
   ]
  },
  {
   "cell_type": "markdown",
   "id": "0e114905",
   "metadata": {},
   "source": [
    "### Business indicators"
   ]
  },
  {
   "cell_type": "code",
   "execution_count": null,
   "id": "be534b76",
   "metadata": {},
   "outputs": [],
   "source": [
    "business_file_raw = 'business_indicators_africa_raw.html'"
   ]
  },
  {
   "cell_type": "code",
   "execution_count": null,
   "id": "9eb2718f",
   "metadata": {},
   "outputs": [],
   "source": [
    "!curl https://africadata.com/wp-content/themes/fruitful/topIndicatorsajax.php > {data_dir + business_file_raw}"
   ]
  },
  {
   "cell_type": "code",
   "execution_count": null,
   "id": "801ab1d9",
   "metadata": {},
   "outputs": [],
   "source": [
    "with open(data_dir + business_file_raw, 'rb') as fo:\n",
    "    business_raw = str(fo.read())"
   ]
  },
  {
   "cell_type": "code",
   "execution_count": null,
   "id": "506a7b85",
   "metadata": {},
   "outputs": [],
   "source": [
    "soup = BeautifulSoup(business_raw, 'html.parser')\n",
    "\n",
    "columns = soup.find_all('th')\n",
    "columns"
   ]
  },
  {
   "cell_type": "code",
   "execution_count": null,
   "id": "dbfc5f49",
   "metadata": {},
   "outputs": [],
   "source": [
    "columns = [str(col).split('>')[1].split('<')[0] for col in columns]\n",
    "columns"
   ]
  },
  {
   "cell_type": "code",
   "execution_count": null,
   "id": "dbfc5f49",
   "metadata": {},
   "outputs": [],
   "source": [
    "rows = [\n",
    "    str(row) for row in soup.find_all('tr')\n",
    "    if is_country_in_str(str(row))[0]\n",
    "]\n",
    "len(rows)"
   ]
  },
  {
   "cell_type": "code",
   "execution_count": null,
   "id": "17deffb4",
   "metadata": {},
   "outputs": [],
   "source": [
    "rows[:3]"
   ]
  },
  {
   "cell_type": "code",
   "execution_count": null,
   "id": "61b52f8d",
   "metadata": {},
   "outputs": [],
   "source": [
    "row = rows[0]\n",
    "def parse_business_indicator_row(row:str):\n",
    "    '''\n",
    "    returns a list of strings\n",
    "    '''\n",
    "    row = [\n",
    "        d.split('>')[-1] for d in row.split('</span>')\n",
    "    ]\n",
    "    row = [d for d in row if len(d) > 0]\n",
    "    return row"
   ]
  },
  {
   "cell_type": "code",
   "execution_count": null,
   "id": "b0dd42cd",
   "metadata": {},
   "outputs": [],
   "source": [
    "rows_parsed = [parse_business_indicator_row(row) for row in rows]\n",
    "rows_parsed[:3]"
   ]
  },
  {
   "cell_type": "code",
   "execution_count": null,
   "id": "1451f3df",
   "metadata": {},
   "outputs": [],
   "source": [
    "df_business_indicators = pd.DataFrame(rows_parsed, columns = columns)\n",
    "df_business_indicators.head()"
   ]
  },
  {
   "cell_type": "code",
   "execution_count": null,
   "id": "1ab09174",
   "metadata": {},
   "outputs": [],
   "source": [
    "df_business_indicators.Value = df_business_indicators.Value.replace('N/A', None)\n",
    "df_business_indicators.Value = df_business_indicators.Value.apply(lambda s: float(s.replace(',', '')))\n",
    "\n",
    "df_business_indicators.head()"
   ]
  },
  {
   "cell_type": "code",
   "execution_count": null,
   "id": "b59e7d65",
   "metadata": {},
   "outputs": [],
   "source": [
    "plt.figure(figsize=(12, 8), facecolor='w')\n",
    "\n",
    "indicator = 'GDP per Capita (US$)'\n",
    "df_temp = df_business_indicators.query(f\"Indicators == '{indicator}'\")\n",
    "mm_ts = df_temp['Value Date'].min(), df_temp['Value Date'].max()\n",
    "\n",
    "sns.barplot(\n",
    "    data=df_temp,\n",
    "    x='Country', y='Value'\n",
    ")\n",
    "\n",
    "plt.xticks(rotation=90)\n",
    "\n",
    "show_values_on_bars(plt.gca())\n",
    "\n",
    "tstr = mm_ts[0] if mm_ts[0] in mm_ts[1] else f'data varies {mm_ts[0]}-{mm_ts[1]}'\n",
    "\n",
    "plt.title(f'African {indicator} ({tstr})')\n",
    "\n",
    "plt.tight_layout()\n",
    "plt.show()\n"
   ]
  },
  {
   "cell_type": "code",
   "execution_count": null,
   "id": "a6681683",
   "metadata": {},
   "outputs": [],
   "source": []
  }
 ],
 "metadata": {
  "kernelspec": {
   "display_name": "Python 3.9.0 64-bit ('world-in-numbers-3.9.0')",
   "language": "python",
   "name": "python3"
  },
  "language_info": {
   "codemirror_mode": {
    "name": "ipython",
    "version": 3
   },
   "file_extension": ".py",
   "mimetype": "text/x-python",
   "name": "python",
   "nbconvert_exporter": "python",
   "pygments_lexer": "ipython3",
   "version": "3.9.0"
  },
  "vscode": {
   "interpreter": {
    "hash": "7a0e0ceb0d9ba4b417d94c6edd31712a0412b2558a85cd176e233197a0adcbd6"
   }
  }
 },
 "nbformat": 4,
 "nbformat_minor": 5
}
