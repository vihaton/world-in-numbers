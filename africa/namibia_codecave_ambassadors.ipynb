{
 "cells": [
  {
   "cell_type": "code",
   "execution_count": null,
   "id": "middle-penalty",
   "metadata": {},
   "outputs": [],
   "source": [
    "import pandas as pd\n",
    "from datetime import datetime, timedelta\n",
    "import seaborn as sns\n",
    "import matplotlib.pyplot as plt\n",
    "from scipy.signal import savgol_filter\n",
    "\n",
    "\n",
    "sns.set_style('whitegrid')"
   ]
  },
  {
   "cell_type": "code",
   "execution_count": null,
   "id": "fourth-ballot",
   "metadata": {},
   "outputs": [],
   "source": [
    "# Ambassadors submission times\n",
    "timestamps = \"\"\"10/19/2021 16:36:55\n",
    "10/20/2021 13:46:20\n",
    "10/19/2021 16:42:50\n",
    "10/19/2021 16:58:22\n",
    "10/20/2021 16:33:42\n",
    "10/20/2021 10:19:41\n",
    "10/19/2021 20:23:07\n",
    "10/20/2021 2:33:20\n",
    "10/20/2021 9:31:23\n",
    "10/19/2021 17:07:18\n",
    "10/20/2021 6:26:36\n",
    "10/19/2021 19:32:22\n",
    "10/19/2021 16:53:24\n",
    "10/20/2021 19:26:48\n",
    "10/20/2021 13:26:09\n",
    "10/19/2021 18:30:38\n",
    "10/19/2021 17:00:12\n",
    "10/19/2021 17:05:55\n",
    "10/19/2021 16:53:10\n",
    "10/19/2021 17:17:34\n",
    "10/19/2021 19:35:42\n",
    "10/20/2021 10:32:14\n",
    "10/21/2021 18:11:24\n",
    "10/19/2021 17:37:41\n",
    "10/20/2021 21:50:59\n",
    "10/19/2021 17:21:32\n",
    "10/20/2021 9:18:01\n",
    "10/21/2021 13:51:06\n",
    "10/21/2021 22:04:24\n",
    "10/19/2021 17:28:38\n",
    "10/19/2021 18:03:58\n",
    "10/19/2021 21:39:17\n",
    "10/19/2021 17:04:15\n",
    "10/19/2021 16:41:30\n",
    "10/22/2021 4:30:52\n",
    "10/19/2021 17:29:13\n",
    "10/19/2021 20:33:03\n",
    "10/20/2021 10:16:23\n",
    "10/19/2021 17:23:46\n",
    "10/19/2021 17:56:22\n",
    "10/19/2021 17:25:09\n",
    "10/19/2021 21:04:18\n",
    "10/19/2021 16:29:44\n",
    "10/19/2021 20:05:48\n",
    "10/19/2021 16:51:34\n",
    "10/20/2021 1:48:41\n",
    "10/19/2021 15:31:26\n",
    "10/22/2021 13:20:54\n",
    "10/23/2021 0:57:01\n",
    "10/22/2021 20:35:57\n",
    "10/22/2021 16:08:22\n",
    "10/23/2021 2:42:34\n",
    "10/26/2021 17:40:36\n",
    "10/27/2021 13:48:09\"\"\""
   ]
  },
  {
   "cell_type": "code",
   "execution_count": null,
   "id": "asian-worry",
   "metadata": {
    "scrolled": true
   },
   "outputs": [],
   "source": [
    "dts = [datetime.strptime(ts, '%m/%d/%Y %H:%M:%S') for ts in sorted(timestamps.split('\\n'))]\n",
    "df = pd.DataFrame(dts, columns=['timestamp'])\n",
    "df"
   ]
  },
  {
   "cell_type": "code",
   "execution_count": null,
   "id": "proud-begin",
   "metadata": {},
   "outputs": [],
   "source": [
    "days = 3\n",
    "start_ts = df.iloc[0]['timestamp']\n",
    "end_ts = start_ts + timedelta(days=days)\n",
    "start_ts, end_ts"
   ]
  },
  {
   "cell_type": "code",
   "execution_count": null,
   "id": "narrative-compact",
   "metadata": {
    "scrolled": true
   },
   "outputs": [],
   "source": [
    "mins = None # 15\n",
    "hours = 3\n",
    "colname = 'day_quarter'\n",
    "\n",
    "def group_ts(df, mins=None, hours=None):\n",
    "    if mins is not None:\n",
    "        series = df.timestamp.apply(lambda ts: datetime(ts.year, ts.month, ts.day, ts.hour, ts.minute // mins * mins))\n",
    "    elif hours is not None:\n",
    "        series = df.timestamp.apply(lambda ts: datetime(ts.year, ts.month, ts.day, ts.hour // hours * hours))\n",
    "    else:\n",
    "        series = df.timestamp\n",
    "\n",
    "    return series\n",
    "\n",
    "df[colname] = group_ts(df, mins, hours)\n",
    "df.head()"
   ]
  },
  {
   "cell_type": "code",
   "execution_count": null,
   "id": "satisfied-mouse",
   "metadata": {
    "scrolled": true
   },
   "outputs": [],
   "source": [
    "df_grouped = df.groupby(colname).count().reset_index().rename(columns={'timestamp': 'count'})\n",
    "\n",
    "df_grouped.head()"
   ]
  },
  {
   "cell_type": "code",
   "execution_count": null,
   "id": "stable-walker",
   "metadata": {},
   "outputs": [],
   "source": [
    "n_ts = int(days * 24 * 60 / mins) if mins is not None else int(days * 24 / hours)\n",
    "ts_all = [start_ts + timedelta(minutes=mins * i) for i in range(n_ts)] if mins is not None else [start_ts + timedelta(hours=hours * i) for i in range(n_ts)]\n",
    "ts_all = group_ts(pd.DataFrame(ts_all, columns=['timestamp']), mins, hours)"
   ]
  },
  {
   "cell_type": "code",
   "execution_count": null,
   "id": "dangerous-badge",
   "metadata": {},
   "outputs": [],
   "source": [
    "df_empty = pd.DataFrame(ts_all.tolist(), columns=['day_quarter'])\n",
    "df_empty.head()"
   ]
  },
  {
   "cell_type": "code",
   "execution_count": null,
   "id": "antique-orlando",
   "metadata": {},
   "outputs": [],
   "source": [
    "df_merged = pd.merge(df_grouped, df_empty, how='outer', on=colname)\n",
    "df_merged = df_merged.fillna(0)"
   ]
  },
  {
   "cell_type": "code",
   "execution_count": null,
   "id": "desperate-arkansas",
   "metadata": {},
   "outputs": [],
   "source": [
    "mask = df_merged[colname] <= end_ts\n",
    "df_merged[mask].shape, df_merged.shape"
   ]
  },
  {
   "cell_type": "code",
   "execution_count": null,
   "id": "social-anchor",
   "metadata": {},
   "outputs": [],
   "source": [
    "smoothed_count = savgol_filter(df_merged['count'][mask].to_numpy(), 25, 3)\n",
    "smoothed_count[:10]"
   ]
  },
  {
   "cell_type": "code",
   "execution_count": null,
   "id": "processed-rescue",
   "metadata": {},
   "outputs": [],
   "source": [
    "fig, ax = plt.subplots(1,1, figsize=(12,8), dpi=120, facecolor='w')\n",
    "ax = sns.lineplot(data=df_merged[mask], x=colname, y='count', label='count')\n",
    "sns.lineplot(x=df_merged[mask][colname], y=smoothed_count, ax=ax, label='smoothed', alpha=0.8)\n",
    "\n",
    "ax.axvline(start_ts + timedelta(hours=3), color='k', ls='--', label='start + 3h')\n",
    "\n",
    "plt.legend()\n",
    "#ax.set_xscale('log')\n",
    "plt.title(f'number of ambassador applications since {start_ts} until {end_ts}')\n",
    "plt.show()\n"
   ]
  },
  {
   "cell_type": "code",
   "execution_count": null,
   "id": "straight-cycling",
   "metadata": {},
   "outputs": [],
   "source": []
  }
 ],
 "metadata": {
  "kernelspec": {
   "display_name": "Python 3",
   "language": "python",
   "name": "python3"
  },
  "language_info": {
   "codemirror_mode": {
    "name": "ipython",
    "version": 3
   },
   "file_extension": ".py",
   "mimetype": "text/x-python",
   "name": "python",
   "nbconvert_exporter": "python",
   "pygments_lexer": "ipython3",
   "version": "3.6.9"
  }
 },
 "nbformat": 4,
 "nbformat_minor": 5
}
