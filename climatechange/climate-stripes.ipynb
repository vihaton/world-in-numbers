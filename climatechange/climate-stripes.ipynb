{
 "cells": [
  {
   "cell_type": "code",
   "execution_count": null,
   "metadata": {},
   "outputs": [],
   "source": [
    "import os\n",
    "import numpy as np\n",
    "import pandas as pd\n",
    "import seaborn as sns\n",
    "import matplotlib.pyplot as plt\n",
    "from matplotlib.collections import PatchCollection\n",
    "from matplotlib.patches import Rectangle\n",
    "\n",
    "sns.set_style('whitegrid')"
   ]
  },
  {
   "cell_type": "code",
   "execution_count": null,
   "metadata": {},
   "outputs": [],
   "source": [
    "data_dir = '../data/'"
   ]
  },
  {
   "cell_type": "code",
   "execution_count": null,
   "metadata": {},
   "outputs": [],
   "source": [
    "def get_files_in_dir(directory, return_dirs=False, verbose=False):\n",
    "    if not os.path.exists(directory):\n",
    "        raise Exception(f'{directory} does not exist!')\n",
    "    for (path, dirs, files) in os.walk(directory):\n",
    "        if verbose:\n",
    "            print('path: ', path)\n",
    "            print('dirs', dirs)\n",
    "            print('files')\n",
    "            for i, file in enumerate(files):\n",
    "                print('\\t', i, file)\n",
    "        break\n",
    "    return files if not return_dirs else (files, dirs)\n"
   ]
  },
  {
   "cell_type": "code",
   "execution_count": null,
   "metadata": {},
   "outputs": [],
   "source": [
    "files = get_files_in_dir(data_dir)\n",
    "for i, fn in enumerate(files):\n",
    "    print(i, fn)"
   ]
  },
  {
   "cell_type": "markdown",
   "metadata": {},
   "source": [
    "## Berkeley Earth\n",
    "\n",
    "http://berkeleyearth.org/data/"
   ]
  },
  {
   "cell_type": "code",
   "execution_count": null,
   "metadata": {},
   "outputs": [],
   "source": [
    "ind = 1\n",
    "fn = data_dir + files[ind]\n",
    "fn"
   ]
  },
  {
   "cell_type": "code",
   "execution_count": null,
   "metadata": {},
   "outputs": [],
   "source": [
    "with open(fn) as fo:\n",
    "    lines = fo.readlines()\n",
    "\n",
    "lines[:8]"
   ]
  },
  {
   "cell_type": "code",
   "execution_count": null,
   "metadata": {},
   "outputs": [],
   "source": [
    "len(lines)"
   ]
  },
  {
   "cell_type": "code",
   "execution_count": null,
   "metadata": {},
   "outputs": [],
   "source": [
    "cols = \" Year, Month, Monthly Anomaly, Monthly Unc., Annual Anomaly, Annual Unc., Five-year Anomaly, Five-year Unc., Ten-year Anomaly, Ten-year Unc., Twenty-year Anomaly, Twenty-year Unc.\".split(',')\n",
    "cols = [\n",
    "    col[1:].replace('.','ertainty').lower().replace(' ', '_').replace('-', '_')\n",
    "    for col in cols\n",
    "]\n",
    "cols"
   ]
  },
  {
   "cell_type": "code",
   "execution_count": null,
   "metadata": {},
   "outputs": [],
   "source": [
    "lines = [line.strip().replace(\"\\n\", \"\") for line in lines if line[0] not in \"%\"]\n",
    "lines[:8]"
   ]
  },
  {
   "cell_type": "code",
   "execution_count": null,
   "metadata": {},
   "outputs": [],
   "source": [
    "len(lines)"
   ]
  },
  {
   "cell_type": "code",
   "execution_count": null,
   "metadata": {},
   "outputs": [],
   "source": [
    "data_arr = [\n",
    "    [entry for entry in line.split(' ') if len(entry) > 0]\n",
    "    for line in lines\n",
    "]"
   ]
  },
  {
   "cell_type": "code",
   "execution_count": null,
   "metadata": {},
   "outputs": [],
   "source": [
    "assert np.array(data_arr).shape[-1] == len(cols), 'data was read incorrectly, not every column was read on every row'"
   ]
  },
  {
   "cell_type": "code",
   "execution_count": null,
   "metadata": {},
   "outputs": [],
   "source": [
    "df_raw = pd.DataFrame(data_arr, columns=cols)\n",
    "dts = [int]*2 + [float]*10\n",
    "for i, col in enumerate(cols):\n",
    "    df_raw[col] = df_raw[col].astype(dts[i])\n",
    "df_raw"
   ]
  },
  {
   "cell_type": "code",
   "execution_count": null,
   "metadata": {},
   "outputs": [],
   "source": [
    "df_annual = df_raw.groupby('year').mean().drop(columns=['month', 'monthly_anomaly', 'monthly_uncertainty']).reset_index()\n",
    "df_annual"
   ]
  },
  {
   "cell_type": "code",
   "execution_count": null,
   "metadata": {},
   "outputs": [],
   "source": [
    "plt.figure(figsize=(16,8))\n",
    "sns.lineplot(data=df_annual, x='year', y='annual_anomaly')"
   ]
  },
  {
   "cell_type": "code",
   "execution_count": null,
   "metadata": {},
   "outputs": [],
   "source": [
    "df_annual.iloc[:20]['twenty_year_anomaly'].dropna()"
   ]
  },
  {
   "cell_type": "code",
   "execution_count": null,
   "metadata": {},
   "outputs": [],
   "source": [
    "preindustrial = df_annual.iloc[:20]['twenty_year_anomaly'].dropna().iloc[0]\n",
    "preindustrial"
   ]
  },
  {
   "cell_type": "code",
   "execution_count": null,
   "metadata": {},
   "outputs": [],
   "source": [
    "plt.figure(figsize=(16,8))\n",
    "sns.lineplot(data=df_annual, x='year', y='twenty_year_anomaly')"
   ]
  },
  {
   "cell_type": "code",
   "execution_count": null,
   "metadata": {},
   "outputs": [],
   "source": [
    "plt.figure(figsize=(16,8))\n",
    "sns.barplot(data=df_annual, x='year', y='annual_anomaly')"
   ]
  },
  {
   "cell_type": "markdown",
   "metadata": {},
   "source": [
    "## Met Office Hadley Centre observations datasets\n",
    "https://www.metoffice.gov.uk/hadobs/hadcrut5/"
   ]
  },
  {
   "cell_type": "code",
   "execution_count": null,
   "metadata": {},
   "outputs": [],
   "source": [
    "files = get_files_in_dir(data_dir)\n",
    "for i, fn in enumerate(files):\n",
    "    print(i, fn)"
   ]
  },
  {
   "cell_type": "code",
   "execution_count": null,
   "metadata": {},
   "outputs": [],
   "source": [
    "ind = 0\n",
    "fn = data_dir + files[ind]\n",
    "fn"
   ]
  },
  {
   "cell_type": "code",
   "execution_count": null,
   "metadata": {},
   "outputs": [],
   "source": [
    "df_moh = pd.read_csv(fn)\n",
    "df_moh"
   ]
  },
  {
   "cell_type": "code",
   "execution_count": null,
   "metadata": {},
   "outputs": [],
   "source": [
    "cols_moh = df_moh.columns.tolist()\n",
    "cols_moh = [col.lower().split(' ')[0] for col in cols_moh]\n",
    "df_moh.columns = cols_moh\n",
    "df_moh"
   ]
  },
  {
   "cell_type": "code",
   "execution_count": null,
   "metadata": {},
   "outputs": [],
   "source": [
    "plt.figure(figsize=(16,8))\n",
    "sns.lineplot(data=df_moh, x='time', y='anomaly')"
   ]
  },
  {
   "cell_type": "markdown",
   "metadata": {},
   "source": [
    "## Create climate stripes"
   ]
  },
  {
   "cell_type": "code",
   "execution_count": null,
   "metadata": {},
   "outputs": [],
   "source": [
    "color2rgb = {\n",
    "    #'dark_red': (134,17,23,255),\n",
    "    'dark red': (134,17,23,255),\n",
    "    'red': (169,0,31,255),\n",
    "    #'dark rose': (173,94,97,255),\n",
    "    'pink': (240,36,99,255),\n",
    "    'orange': (233,105,61,255),\n",
    "    #'mustard yellow': (219,163,44,255),\n",
    "    'coral': (228,106,109,255),\n",
    "    'pastelpink': (238,197,218,255),\n",
    "    'naturalwhite': (255,246,229,255),\n",
    "    #'white': (255,255,255,255),\n",
    "    'aqua': (169,214,209,255),\n",
    "    #'light blue': (185,206,227,255),\n",
    "    'turqoise': (76,172,197,255),\n",
    "    'antique blue': (77,107,157,255),\n",
    "    'denim': (0,52,98,255),\n",
    "    'dark blue': (77,107,157,255),\n",
    "    'black': (0,0,0,255),\n",
    "    'black1': (0,0,0,255),\n",
    "}\n",
    "\n",
    "colors = list(color2rgb.keys())[::-1]\n",
    "\n",
    "color2code = {\n",
    "    'dark_red': 65,\n",
    "    'dark red': 65,\n",
    "    'red': 64,\n",
    "    'dark rose': 63,\n",
    "    'pink': 75,\n",
    "    'orange': 58,\n",
    "    'mustard yellow': 71,\n",
    "    'coral': 62,\n",
    "    'pastelpink': 90,\n",
    "    'naturalwhite': 52,\n",
    "    'aqua': 59,\n",
    "    'light blue': 68,\n",
    "    'turqoise': 76,\n",
    "    'antique blue': 69,\n",
    "    'denim': 72,\n",
    "    'dark blue': 74,\n",
    "    'black': 70,\n",
    "    'black1': 70,\n",
    "}"
   ]
  },
  {
   "cell_type": "code",
   "execution_count": null,
   "metadata": {},
   "outputs": [],
   "source": [
    "barplot = False\n",
    "add_preindustrial = False"
   ]
  },
  {
   "cell_type": "code",
   "execution_count": null,
   "metadata": {},
   "outputs": [],
   "source": [
    "if add_preindustrial:\n",
    "    df_moh['preindustrial_anomaly'] = df_moh.anomaly + preindustrial"
   ]
  },
  {
   "cell_type": "code",
   "execution_count": null,
   "metadata": {},
   "outputs": [],
   "source": [
    "mi, ma = df_moh.anomaly.min(), df_moh.anomaly.max()\n",
    "mi, ma"
   ]
  },
  {
   "cell_type": "code",
   "execution_count": null,
   "metadata": {},
   "outputs": [],
   "source": [
    "n_colors = len(colors)\n",
    "colspace = np.linspace(-.8, .8, n_colors-1)"
   ]
  },
  {
   "cell_type": "code",
   "execution_count": null,
   "metadata": {},
   "outputs": [],
   "source": [
    "df_moh['color'] = df_moh.anomaly.copy()\n",
    "for i in list(range(n_colors-1))[::-1]:\n",
    "    print(i, colspace[i], colors[i])\n",
    "    df_moh['color'] = df_moh.color.where(df_moh.anomaly >= colspace[i], colors[i])\n",
    "df_moh['color'] = df_moh.color.where(df_moh.anomaly < colspace[-1], colors[-1])\n",
    "\n",
    "df_moh"
   ]
  },
  {
   "cell_type": "code",
   "execution_count": null,
   "metadata": {},
   "outputs": [],
   "source": [
    "df_moh['color_rgb'] = df_moh.color.apply(lambda c: tuple(np.array(color2rgb[c])/255))\n",
    "df_moh"
   ]
  },
  {
   "cell_type": "code",
   "execution_count": null,
   "metadata": {},
   "outputs": [],
   "source": [
    "def get_stripes(barplot=False):\n",
    "    stripes = []\n",
    "\n",
    "    dx = 0.5\n",
    "    for i, row in df_moh.iterrows():\n",
    "        year = row['time']\n",
    "        anom = row['anomaly']\n",
    "        if barplot:\n",
    "            ly = min(anom, 0)\n",
    "            h = anom if anom > 0 else abs(anom)\n",
    "        else:\n",
    "            ly=0\n",
    "            h=(2020-1850)/220*140\n",
    "        rgb = row['color_rgb']\n",
    "        #print(year, anom, ly, dx, h, rgb)\n",
    "        stripes.append(Rectangle(\n",
    "            (year-dx, ly), 2*dx, h,\n",
    "            color=rgb,\n",
    "            linewidth=0.2,\n",
    "        ))\n",
    "\n",
    "    return stripes"
   ]
  },
  {
   "cell_type": "code",
   "execution_count": null,
   "metadata": {},
   "outputs": [],
   "source": [
    "fig, ax = plt.subplots(1,1,figsize=(16,8))\n",
    "\n",
    "ax.plot([1850, 2021], [0,0], color='k', lw=.4, alpha=0.5)\n",
    "\n",
    "stripes = get_stripes(barplot)\n",
    "\n",
    "for stripe in stripes:\n",
    "    ax.add_patch(stripe)\n",
    "\n",
    "plt.show()"
   ]
  },
  {
   "cell_type": "code",
   "execution_count": null,
   "metadata": {},
   "outputs": [],
   "source": [
    "fig, ax = plt.subplots(1,1,figsize=(16,8))\n",
    "\n",
    "ax.plot([1850, 2021], [0,0], color='k', lw=.4, alpha=0.5)\n",
    "\n",
    "stripes = get_stripes(not barplot)\n",
    "\n",
    "ax.axvline(1961, color='k', lw=0.5, ls='--', label='1961')\n",
    "ax.axvline(1990, color='k', lw=0.5, ls='-.', label='1990')\n",
    "\n",
    "for stripe in stripes:\n",
    "    ax.add_patch(stripe)\n",
    "plt.ylim(mi*1.2, ma*1.2)\n",
    "plt.legend()\n",
    "plt.show()"
   ]
  },
  {
   "cell_type": "code",
   "execution_count": null,
   "metadata": {},
   "outputs": [],
   "source": [
    "colorcodes = []\n",
    "for i, row in df_moh.iterrows():\n",
    "    c = row['color']\n",
    "    colorcodes.append((c, color2code[c]))"
   ]
  },
  {
   "cell_type": "code",
   "execution_count": null,
   "metadata": {},
   "outputs": [],
   "source": [
    "linew = round(220/170, 1)\n",
    "linew"
   ]
  },
  {
   "cell_type": "code",
   "execution_count": null,
   "metadata": {},
   "outputs": [],
   "source": [
    "linew * 170"
   ]
  },
  {
   "cell_type": "code",
   "execution_count": null,
   "metadata": {},
   "outputs": [],
   "source": [
    "colorwidths = []\n",
    "\n",
    "for i, (c, code) in enumerate(colorcodes):\n",
    "    #print(c, code)\n",
    "    if i == 0:\n",
    "        c_prev = c\n",
    "        n = 1\n",
    "    elif len(c) == len(c_prev) and c in c_prev:\n",
    "        n += 1\n",
    "    else:\n",
    "        colorwidths.append((c_prev, color2code[c_prev], round(n*linew, 3)))\n",
    "        n = 1\n",
    "    c_prev = c\n",
    "\n",
    "    if i+1 == len(colorcodes):\n",
    "        print(c, code, color2code[c])\n",
    "        colorwidths.append((c, code, round(n*linew, 3)))"
   ]
  },
  {
   "cell_type": "code",
   "execution_count": null,
   "metadata": {},
   "outputs": [],
   "source": [
    "colorwidths[-20:]"
   ]
  },
  {
   "cell_type": "code",
   "execution_count": null,
   "metadata": {},
   "outputs": [],
   "source": [
    "sum([\n",
    "    r[-1] for r in colorwidths\n",
    "])"
   ]
  },
  {
   "cell_type": "code",
   "execution_count": null,
   "metadata": {},
   "outputs": [],
   "source": [
    "df_moh.iloc[-20:]"
   ]
  },
  {
   "cell_type": "code",
   "execution_count": null,
   "metadata": {},
   "outputs": [],
   "source": [
    "for color, code, w in colorwidths:\n",
    "    tstr = '\\t' * (2 - len(color) // 8)\n",
    "    print(f'{color}{tstr}{code} - {w}cm')"
   ]
  }
 ],
 "metadata": {
  "interpreter": {
   "hash": "7a0e0ceb0d9ba4b417d94c6edd31712a0412b2558a85cd176e233197a0adcbd6"
  },
  "kernelspec": {
   "display_name": "Python 3.9.0 64-bit ('world-in-numbers-3.9.0': pyenv)",
   "language": "python",
   "name": "python3"
  },
  "language_info": {
   "codemirror_mode": {
    "name": "ipython",
    "version": 3
   },
   "file_extension": ".py",
   "mimetype": "text/x-python",
   "name": "python",
   "nbconvert_exporter": "python",
   "pygments_lexer": "ipython3",
   "version": "3.9.0"
  },
  "orig_nbformat": 4
 },
 "nbformat": 4,
 "nbformat_minor": 2
}
